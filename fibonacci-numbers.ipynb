{
 "cells": [
  {
   "cell_type": "markdown",
   "metadata": {},
   "source": [
    "# Fibonacci numbers\n",
    "In this tutorial we will discuss how to perform the fibonacci numbers using *Python*. There is a lot of tutorials on the Internet describing various way to calculate an N-th element of this sequence. We will add extra aspects to these considerations.\n",
    "### What is the fibonacci sequence?\n",
    "At the beginning let's just write what are the fibonacci numbers: `F(N)`. The two first elements are defined as 0 and 1, i.e. `F(0) = 0`, `F(1) = 1`. The next one is sum of the two previous elements: `F(N) = F(N-2) + F(N-1)`, so the first fifteen elements are equal: `0, 1, 1, 2, 3, 5, 8, 13, 21, 34, 55, 89, 144, 233, 377`. Let's see them on the plot:"
   ]
  },
  {
   "cell_type": "code",
   "execution_count": 1,
   "metadata": {
    "scrolled": false
   },
   "outputs": [
    {
     "data": {
      "image/png": "[encoded data removed]",
      "text/plain": [
       "<matplotlib.figure.Figure at 0x7f39646de5f8>"
      ]
     },
     "metadata": {},
     "output_type": "display_data"
    }
   ],
   "source": [
    "import matplotlib.pyplot as plt\n",
    "\n",
    "X = range(15)\n",
    "Y = [0, 1, 1, 2, 3, 5, 8, 13, 21, 34, 55, 89, 144, 233, 377]\n",
    "plt.figure(figsize=(8,5))\n",
    "plt.plot(X, Y, 'ro')\n",
    "plt.title('Fibonacci numbers', fontsize=20)\n",
    "plt.xlabel('N', fontsize=15)\n",
    "plt.ylabel('F(N)', fontsize=15)\n",
    "plt.tick_params(labelsize=12)\n",
    "plt.grid(linestyle='dotted')\n",
    "plt.show()"
   ]
  },
  {
   "cell_type": "markdown",
   "metadata": {},
   "source": [
    "OK, now let's define three different functions allowing to compute the N-th element of the sequence:"
   ]
  },
  {
   "cell_type": "code",
   "execution_count": 2,
   "metadata": {},
   "outputs": [],
   "source": [
    "def fibonacci_recursive(n):\n",
    "    if n == 0:\n",
    "        return n\n",
    "    elif n == 1:\n",
    "        return n\n",
    "    else:\n",
    "        return fibonacci_recursive(n-2) + fibonacci_recursive(n-1)\n",
    "\n",
    "\n",
    "def fibonacci_iterative(n):\n",
    "    first, second = 0, 1\n",
    "\n",
    "    for i in range(n-1):\n",
    "        first, second = second, first + second\n",
    "    return second\n",
    "\n",
    "\n",
    "fibonacci_memo_dict = {0:0, 1:1}\n",
    "def fibonacci_memorization(n):\n",
    "    global fibonacci_memo_dict\n",
    "    if not n in fibonacci_memo_dict:\n",
    "        fibonacci_memo_dict[n] = fibonacci_memorization(n-2) + fibonacci_memorization(n-1)\n",
    "    return fibonacci_memo_dict[n]"
   ]
  },
  {
   "cell_type": "markdown",
   "metadata": {},
   "source": [
    "We have to be sure that the functions are defined correctly. Let's check them for a few arguments:"
   ]
  },
  {
   "cell_type": "code",
   "execution_count": 3,
   "metadata": {},
   "outputs": [
    {
     "name": "stdout",
     "output_type": "stream",
     "text": [
      " N  recursive iterative memorization\n",
      "------------------------------------\n",
      " 0:         0         1            0\n",
      " 1:         1         1            1\n",
      " 2:         1         1            1\n",
      " 3:         2         2            2\n",
      " 4:         3         3            3\n",
      " 5:         5         5            5\n",
      " 6:         8         8            8\n",
      " 7:        13        13           13\n",
      " 8:        21        21           21\n",
      " 9:        34        34           34\n",
      "10:        55        55           55\n",
      "11:        89        89           89\n",
      "12:       144       144          144\n",
      "13:       233       233          233\n",
      "14:       377       377          377\n"
     ]
    }
   ],
   "source": [
    "N = 15\n",
    "header = \" N  recursive iterative memorization\"\n",
    "\n",
    "print(\"{}\\n{}\".format(header, \"-\"*len(header)))\n",
    "for i in range(N):\n",
    "    out = \"{0:2d}: {1:9d} {2:9d} {3:12d}\".format(i,fibonacci_recursive(i), fibonacci_iterative(i), fibonacci_memorization(i))\n",
    "    print(out)"
   ]
  }
 ],
 "metadata": {
  "kernelspec": {
   "display_name": "Python 3",
   "language": "python",
   "name": "python3"
  },
  "language_info": {
   "codemirror_mode": {
    "name": "ipython",
    "version": 3
   },
   "file_extension": ".py",
   "mimetype": "text/x-python",
   "name": "python",
   "nbconvert_exporter": "python",
   "pygments_lexer": "ipython3",
   "version": "3.4.6"
  }
 },
 "nbformat": 4,
 "nbformat_minor": 2
}
